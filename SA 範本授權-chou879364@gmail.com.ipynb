{
 "cells": [
  {
   "cell_type": "code",
   "execution_count": 6,
   "metadata": {},
   "outputs": [],
   "source": [
    "from selenium import webdriver\n",
    "from selenium.webdriver.common.keys import Keys\n",
    "from selenium.webdriver.support.ui import Select\n",
    "import time\n",
    "\n",
    "#使用chrome的webdriver\n",
    "browser = webdriver.Chrome()\n",
    "#開啟網頁\n",
    "browser.get('http://35.201.209.150:5000/')\n",
    "#視窗最大化\n",
    "#browser.maximize_window()\n",
    "#輸入帳號密碼進行登入\n",
    "element = browser.find_element_by_name (\"username\").send_keys(\"tami\")\n",
    "element = browser.find_element_by_name (\"pwd\").send_keys(\"tami\")\n",
    "element = browser.find_element_by_css_selector('.btn.btn-primary.hidden-xs.btn-login').click()\n",
    "\n",
    "#開啟左側範本管理\n",
    "time.sleep(3)\n",
    "element = browser.find_element_by_xpath('//*[@id=\"menu\"]/ul/li[3]/a').click()\n",
    "#切換到範本授權\n",
    "time.sleep(3)\n",
    "element = browser.find_element_by_xpath('//*[@id=\"menu\"]/ul/li[3]/ul/li[4]/a').click()\n",
    "time.sleep(3)\n",
    "#指派帳號:chou879364@gmail.com\n",
    "s1 = Select(browser.find_element_by_css_selector('.form-control.mb-md.user-list'))\n",
    "s1.select_by_visible_text(\"chou879364@gmail.com\")\n",
    "time.sleep(1)\n",
    "#可使用特徵:套用範本-關注事項與基本輪廓全部\n",
    "#element = browser.find_element_by_xpath('//*[contains(text(), \"關注事項\")]').click()\n",
    "#element = browser.find_element_by_xpath('//*[contains(text(), \"基本輪廓\")]').click()\n",
    "#可使用受眾:套用範本-旅遊、健康生活\n",
    "element = browser.find_element_by_xpath('//*[contains(text(), \"旅遊\")]').click()\n",
    "element = browser.find_element_by_xpath('//*[contains(text(), \"健康生活\")]').click()\n",
    "#指派\n",
    "time.sleep(1)\n",
    "element = browser.find_element_by_xpath('/html/body/section/div/section/div/div/div[2]/ul/li').click()"
   ]
  },
  {
   "cell_type": "code",
   "execution_count": null,
   "metadata": {},
   "outputs": [],
   "source": []
  }
 ],
 "metadata": {
  "kernelspec": {
   "display_name": "Python 3",
   "language": "python",
   "name": "python3"
  },
  "language_info": {
   "codemirror_mode": {
    "name": "ipython",
    "version": 3
   },
   "file_extension": ".py",
   "mimetype": "text/x-python",
   "name": "python",
   "nbconvert_exporter": "python",
   "pygments_lexer": "ipython3",
   "version": "3.7.3"
  }
 },
 "nbformat": 4,
 "nbformat_minor": 2
}
