{
 "cells": [
  {
   "cell_type": "code",
   "execution_count": 27,
   "metadata": {},
   "outputs": [
    {
     "name": "stderr",
     "output_type": "stream",
     "text": [
      "C:\\ProgramData\\Anaconda3\\lib\\site-packages\\ipykernel_launcher.py:59: DeprecationWarning: use driver.switch_to.alert instead\n"
     ]
    }
   ],
   "source": [
    "from selenium import webdriver\n",
    "from selenium.webdriver.common.keys import Keys\n",
    "from selenium.webdriver.support.ui import Select\n",
    "import time\n",
    "\n",
    "#使用chrome的webdriver\n",
    "browser = webdriver.Chrome()\n",
    "#開啟網頁\n",
    "browser.get('http://35.201.209.150:5000/')\n",
    "#視窗最大化\n",
    "browser.maximize_window()\n",
    "#輸入帳號密碼進行登入\n",
    "element = browser.find_element_by_name (\"username\").send_keys(\"tami\")\n",
    "element = browser.find_element_by_name (\"pwd\").send_keys(\"tami\")\n",
    "element = browser.find_element_by_css_selector('.btn.btn-primary.hidden-xs.btn-login').click()\n",
    "\n",
    "#開啟左側特徵管理\n",
    "time.sleep(3)\n",
    "element = browser.find_element_by_xpath('//*[@id=\"menu\"]/ul/li[4]/a').click()\n",
    "#切換到特徵列表\n",
    "time.sleep(3)\n",
    "element = browser.find_element_by_xpath('//*[@id=\"menu\"]/ul/li[4]/ul/li[1]/a').click()\n",
    "#編輯特徵 電信公司\n",
    "time.sleep(3)\n",
    "element = browser.find_element_by_xpath('//*[@id=\"more-87\"]').click()\n",
    "#編輯特徵\n",
    "time.sleep(3)\n",
    "element = browser.find_element_by_xpath('//*[@id=\"more-87\"]/ul/li[2]/button').click()\n",
    "\n",
    "#按下新增一組主題標籤及品牌標籤+\n",
    "time.sleep(3)\n",
    "element = browser.find_element_by_xpath('/html/body/section/div/section/section/div/div/div[1]/section[1]/div/div/div/section/div/div[2]/div[1]/a').click()\n",
    "#第一層 一般服務\n",
    "s1 = Select(browser.find_element_by_id('cdr_label1'))\n",
    "s1.select_by_visible_text(\"一般服務\")\n",
    "#第二層 全選\n",
    "time.sleep(3)\n",
    "element = browser.find_element_by_xpath('//*[@id=\"modalCDRTag\"]/section/div/div/div/div[1]/div[3]/div[2]/div/div[1]/span/span/span/div/button').click()\n",
    "element = browser.find_element_by_xpath('//input[@value=\"multiselect-all\"]').click()\n",
    "time.sleep(3)\n",
    "element = browser.find_element_by_xpath('//*[@id=\"modalCDRTag\"]/section/div/div/div/div[1]/div[3]/div[2]/div/div[1]/span/span/span/div/button').click()\n",
    "#簡訊類別-全選\n",
    "element = browser.find_element_by_xpath('//*[@id=\"modalCDRTag\"]/section/div/div/div/div[1]/div[3]/div[3]/div/div/span[1]/span/span/span/div/button').click()\n",
    "element = browser.find_element_by_xpath('//*[@id=\"modalCDRTag\"]/section/div/div/div/div[1]/div[3]/div[3]/div/div/span[1]/span/span/span/div/ul/li[2]').click()\n",
    "element = browser.find_element_by_xpath('//*[@id=\"modalCDRTag\"]/section/div/div/div/div[1]/div[3]/div[3]/div/div/span[1]/span/span/span/div/button').click()\n",
    "#發/收話-全選\n",
    "time.sleep(3)\n",
    "element = browser.find_element_by_xpath('//*[@id=\"modalCDRTag\"]/section/div/div/div/div[1]/div[3]/div[3]/div/div/span[2]/span/span/span/div/button').click()\n",
    "element = browser.find_element_by_xpath('//*[@id=\"modalCDRTag\"]/section/div/div/div/div[1]/div[3]/div[3]/div/div/span[2]/span/span/span/div/ul/li[2]').click()\n",
    "time.sleep(3)\n",
    "element = browser.find_element_by_xpath('//*[@id=\"modalCDRTag\"]/section/div/div/div/div[1]/div[3]/div[3]/div/div/span[2]/span/span/span/div/button').click()\n",
    "#新增\n",
    "element = browser.find_element_by_xpath('//*[@id=\"modalCDRTag\"]/section/footer/div/div/button[1]').click()\n",
    "\n",
    "#點擊\"儲存編輯此特徵\"\n",
    "element = browser.find_element_by_xpath('/html/body/section/div/section/section/div/div/div[1]/div[5]/div[2]/button[2]').click()\n",
    "\n",
    "#彈出視窗按下確定\n",
    "browser.switch_to_alert().accept() \n",
    "\n",
    "#編輯特徵 電信公司\n",
    "time.sleep(3)\n",
    "element = browser.find_element_by_xpath('//*[@id=\"more-86\"]').click()\n",
    "#編輯特徵\n",
    "time.sleep(3)\n",
    "element = browser.find_element_by_xpath('//*[@id=\"more-86\"]/ul/li[1]/button').click()\n"
   ]
  },
  {
   "cell_type": "code",
   "execution_count": null,
   "metadata": {},
   "outputs": [],
   "source": []
  }
 ],
 "metadata": {
  "kernelspec": {
   "display_name": "Python 3",
   "language": "python",
   "name": "python3"
  },
  "language_info": {
   "codemirror_mode": {
    "name": "ipython",
    "version": 3
   },
   "file_extension": ".py",
   "mimetype": "text/x-python",
   "name": "python",
   "nbconvert_exporter": "python",
   "pygments_lexer": "ipython3",
   "version": "3.7.3"
  }
 },
 "nbformat": 4,
 "nbformat_minor": 2
}
