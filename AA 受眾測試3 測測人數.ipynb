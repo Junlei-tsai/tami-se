{
 "cells": [
  {
   "cell_type": "code",
   "execution_count": 8,
   "metadata": {},
   "outputs": [],
   "source": [
    "from selenium import webdriver\n",
    "from selenium.webdriver.common.keys import Keys\n",
    "import time\n",
    "from selenium.webdriver.support.ui import Select\n",
    "\n",
    "#使用chrome的webdriver\n",
    "browser = webdriver.Chrome()\n",
    "#開啟網頁\n",
    "browser.get('http://35.201.209.150:5000/')\n",
    "#視窗最大化\n",
    "browser.maximize_window()\n",
    "#輸入帳號密碼進行登入\n",
    "element = browser.find_element_by_name (\"username\").send_keys(\"chou879364@gmail.com\")\n",
    "element = browser.find_element_by_name (\"pwd\").send_keys(\"Chou879364\")\n",
    "element = browser.find_element_by_css_selector('.btn.btn-primary.hidden-xs.btn-login').click()\n",
    "\n",
    "#切換到受眾列表\n",
    "time.sleep(3)\n",
    "element = browser.find_element_by_xpath('//*[@id=\"menu\"]/ul/li[4]/ul/li[1]/a').click()\n",
    "#按下新增受眾+\n",
    "time.sleep(3)\n",
    "element = browser.find_element_by_xpath('/html/body/section/div/section/div/div/div/div[2]/div[1]/div[1]/button').click()\n",
    "#選擇受眾歸群\n",
    "time.sleep(3)\n",
    "s1 = Select(browser.find_element_by_id('cate1'))\n",
    "s1.select_by_visible_text(\"基本輪廓\")\n",
    "#受眾命名\n",
    "element = browser.find_element_by_name (\"target_name\").send_keys(\"測測人數\")\n",
    "element = browser.find_element_by_name (\"target_description\").send_keys(\"受測的熱心民眾\")\n",
    "element = browser.find_element_by_xpath('//input[@value=\"開放編輯\"]').send_keys(Keys.SPACE)\n",
    "\n",
    "#特徵條件 聯集\n",
    "element = browser.find_element_by_xpath('/html/body/section/div/section/section/div/div[2]/div[1]/div[1]/div/div/div[2]/section[1]/div/div/div/div[1]/div/input[2]').click()\n",
    "#打開關注事項\n",
    "element = browser.find_element_by_xpath('//*[@id=\"j1_1\"]/i').click()\n",
    "time.sleep(1)\n",
    "#加入 北美與金融\n",
    "element = browser.find_element_by_xpath('//*[@id=\"j1_2\"]/a/div/div[2]').click()\n",
    "time.sleep(10)\n",
    "#新增受眾\n",
    "element = browser.find_element_by_xpath('/html/body/section/div/section/section/div/div[2]/header/div/div[2]/div[2]/button[1]').click()"
   ]
  },
  {
   "cell_type": "code",
   "execution_count": null,
   "metadata": {},
   "outputs": [],
   "source": []
  }
 ],
 "metadata": {
  "kernelspec": {
   "display_name": "Python 3",
   "language": "python",
   "name": "python3"
  },
  "language_info": {
   "codemirror_mode": {
    "name": "ipython",
    "version": 3
   },
   "file_extension": ".py",
   "mimetype": "text/x-python",
   "name": "python",
   "nbconvert_exporter": "python",
   "pygments_lexer": "ipython3",
   "version": "3.7.3"
  }
 },
 "nbformat": 4,
 "nbformat_minor": 2
}
