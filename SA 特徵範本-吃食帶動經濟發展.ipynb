{
 "cells": [
  {
   "cell_type": "code",
   "execution_count": 12,
   "metadata": {},
   "outputs": [],
   "source": [
    "from selenium import webdriver\n",
    "from selenium.webdriver.common.keys import Keys\n",
    "from selenium.webdriver.support.ui import Select\n",
    "import time\n",
    "\n",
    "#使用chrome的webdriver\n",
    "browser = webdriver.Chrome()\n",
    "#開啟網頁\n",
    "browser.get('http://35.201.209.150:5000/')\n",
    "#視窗最大化\n",
    "#browser.maximize_window()\n",
    "#輸入帳號密碼進行登入\n",
    "element = browser.find_element_by_name (\"username\").send_keys(\"tami\")\n",
    "element = browser.find_element_by_name (\"pwd\").send_keys(\"tami\")\n",
    "element = browser.find_element_by_css_selector('.btn.btn-primary.hidden-xs.btn-login').click()\n",
    "\n",
    "#開啟左側範本管理\n",
    "time.sleep(3)\n",
    "element = browser.find_element_by_xpath('//*[@id=\"menu\"]/ul/li[3]/a').click()\n",
    "#切換到特徵範本\n",
    "time.sleep(3)\n",
    "element = browser.find_element_by_xpath('//*[@id=\"menu\"]/ul/li[3]/ul/li[1]/a').click()\n",
    "\n",
    "#建立特徵範本\n",
    "element = browser.find_element_by_xpath('/html/body/section/div/section/div/div/div[1]/a').click()\n",
    "#範本名稱:吃食帶動經濟發展\n",
    "element = browser.find_element_by_xpath('//*[@id=\"modalForm\"]/section/div/form/div[1]/div/input').send_keys(\"吃食帶動經濟發展\")\n",
    "#範本描述:包含愛吃以及北美金融\n",
    "element = browser.find_element_by_xpath('//*[@id=\"modalForm\"]/section/div/form/div[2]/div/input').send_keys(\"包含愛吃以及北美金融\")\n",
    "#可使用特徵\n",
    "time.sleep(1)\n",
    "#消除全選\n",
    "element = browser.find_element_by_xpath('//*[contains(text(), \"關注事項\")]').click()\n",
    "element = browser.find_element_by_xpath('//*[contains(text(), \"基本輪廓\")]').click()\n",
    "element = browser.find_element_by_xpath('//*[contains(text(), \"LifeStyle\")]').click()\n",
    "element = browser.find_element_by_xpath('//*[contains(text(), \"對面的朋友看這邊\")]').click()\n",
    "element = browser.find_element_by_xpath('//*[contains(text(), \"主要分析\")]').click()\n",
    "#可使用特徵:北美與金融、愛吃又愛動\n",
    "element = browser.find_element_by_xpath('//*[contains(text(), \"北美與金融\")]').click()\n",
    "element = browser.find_element_by_xpath('//*[contains(text(), \"愛吃又愛動\")]').click()\n",
    "#建立範本\n",
    "element = browser.find_element_by_xpath('//*[@id=\"modalForm\"]/section/footer/div/div/button[1]').click()"
   ]
  },
  {
   "cell_type": "code",
   "execution_count": null,
   "metadata": {},
   "outputs": [],
   "source": []
  }
 ],
 "metadata": {
  "kernelspec": {
   "display_name": "Python 3",
   "language": "python",
   "name": "python3"
  },
  "language_info": {
   "codemirror_mode": {
    "name": "ipython",
    "version": 3
   },
   "file_extension": ".py",
   "mimetype": "text/x-python",
   "name": "python",
   "nbconvert_exporter": "python",
   "pygments_lexer": "ipython3",
   "version": "3.7.3"
  }
 },
 "nbformat": 4,
 "nbformat_minor": 2
}
