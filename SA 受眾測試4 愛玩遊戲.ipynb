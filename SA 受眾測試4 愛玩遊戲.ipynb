{
 "cells": [
  {
   "cell_type": "code",
   "execution_count": 11,
   "metadata": {},
   "outputs": [],
   "source": [
    "from selenium import webdriver\n",
    "from selenium.webdriver.common.keys import Keys\n",
    "import time\n",
    "from selenium.webdriver.support.ui import Select\n",
    "\n",
    "#使用chrome的webdriver\n",
    "browser = webdriver.Chrome()\n",
    "#開啟網頁\n",
    "browser.get('http://35.201.209.150:5000/')\n",
    "#視窗最大化\n",
    "browser.maximize_window()\n",
    "#輸入帳號密碼進行登入\n",
    "element = browser.find_element_by_name (\"username\").send_keys(\"tami\")\n",
    "element = browser.find_element_by_name (\"pwd\").send_keys(\"tami\")\n",
    "element = browser.find_element_by_css_selector('.btn.btn-primary.hidden-xs.btn-login').click()\n",
    "\n",
    "#開啟左側受眾管理\n",
    "#time.sleep(3)\n",
    "###element = browser.find_element_by_xpath('//*[@id=\"menu\"]/ul/li[5]/a').click()\n",
    "#切換到受眾列表\n",
    "time.sleep(3)\n",
    "element = browser.find_element_by_xpath('//*[@id=\"menu\"]/ul/li[5]/ul/li[1]/a').click()\n",
    "#按下新增受眾+\n",
    "element = browser.find_element_by_xpath('/html/body/section/div/section/div/div[1]/div/div[1]/button').click()\n",
    "#選擇受眾歸群\n",
    "time.sleep(3)\n",
    "element = browser.find_element_by_xpath('//*[@id=\"cate1\"]/option[3]').click()\n",
    "#受眾命名\n",
    "element = browser.find_element_by_name (\"target_name\").send_keys(\"愛玩遊戲\")\n",
    "element = browser.find_element_by_name (\"target_description\").send_keys(\"愛打電玩\")\n",
    "element = browser.find_element_by_xpath('/html/body/section/div/section/section/div/div[2]/div[1]/div[1]/div/div/div[2]/section[1]/div/div/div/div[1]/div/input[1]').click()\n",
    "\n",
    "#受眾條件1\n",
    "#包含條件\n",
    "#基本輪廓設定\n",
    "element = browser.find_element_by_xpath('/html/body/section/div/section/section/div/div[2]/div[1]/div[1]/div/div/div[2]/section[1]/div/section/header/div[2]/a/i').click()\n",
    "#性別:男性與女性\n",
    "element = browser.find_element_by_xpath('//*[@id=\"modalBasicShape\"]/section/div/div/div[1]/div[1]/div[2]/input[3]').send_keys(Keys.SPACE)\n",
    "#年齡:1至99歲\n",
    "element = browser.find_element_by_xpath('//*[@id=\"modalBasicShape\"]/section/div/div/div[1]/div[2]/div[2]/div[1]/div/div/div[1]/select/option[2]').click()\n",
    "element = browser.find_element_by_xpath('//*[@id=\"modalBasicShape\"]/section/div/div/div[1]/div[2]/div[2]/div[1]/div/div/div[3]/select/option[100]').click()\\\n",
    "#地址類別:台北市 全區\n",
    "element = browser.find_element_by_name (\"address_type\").send_keys(Keys.SPACE)\n",
    "s1 = Select(browser.find_element_by_name(\"county\"))\n",
    "s1.select_by_visible_text(\"台北市\")\n",
    "#新增一組基本輪廓設定\n",
    "element = browser.find_element_by_xpath('//*[@id=\"modalBasicShape\"]/section/footer/div/div/button[1]').click()\n",
    "time.sleep(10)\n",
    "#新增受眾\n",
    "element = browser.find_element_by_xpath('/html/body/section/div/section/section/div/div[2]/header/div/div[2]/div[2]/button[1]').click()"
   ]
  },
  {
   "cell_type": "code",
   "execution_count": null,
   "metadata": {},
   "outputs": [],
   "source": []
  },
  {
   "cell_type": "code",
   "execution_count": null,
   "metadata": {},
   "outputs": [],
   "source": []
  }
 ],
 "metadata": {
  "kernelspec": {
   "display_name": "Python 3",
   "language": "python",
   "name": "python3"
  },
  "language_info": {
   "codemirror_mode": {
    "name": "ipython",
    "version": 3
   },
   "file_extension": ".py",
   "mimetype": "text/x-python",
   "name": "python",
   "nbconvert_exporter": "python",
   "pygments_lexer": "ipython3",
   "version": "3.7.3"
  }
 },
 "nbformat": 4,
 "nbformat_minor": 2
}
