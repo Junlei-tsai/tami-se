{
 "cells": [
  {
   "cell_type": "code",
   "execution_count": 3,
   "metadata": {
    "scrolled": false
   },
   "outputs": [],
   "source": [
    "from selenium import webdriver\n",
    "from selenium.webdriver.common.keys import Keys\n",
    "import time\n",
    "from selenium.webdriver.support.ui import Select\n",
    "\n",
    "#使用chrome的webdriver\n",
    "browser = webdriver.Chrome()\n",
    "#開啟網頁\n",
    "browser.get('http://35.201.209.150:5000/')\n",
    "#視窗最大化\n",
    "browser.maximize_window()\n",
    "#輸入帳號密碼進行登入\n",
    "element = browser.find_element_by_name (\"username\").send_keys(\"chou879364@gmail.com\")\n",
    "element = browser.find_element_by_name (\"pwd\").send_keys(\"Chou879364\")\n",
    "element = browser.find_element_by_css_selector('.btn.btn-primary.hidden-xs.btn-login').click()\n",
    "\n",
    "#切換到受眾列表\n",
    "time.sleep(3)\n",
    "element = browser.find_element_by_xpath('//*[@id=\"menu\"]/ul/li[4]/ul/li[1]/a').click()\n",
    "#按下新增受眾+\n",
    "time.sleep(3)\n",
    "element = browser.find_element_by_xpath('/html/body/section/div/section/div/div/div/div[2]/div[1]/div[1]/button').click()\n",
    "#選擇受眾歸群\n",
    "time.sleep(3)\n",
    "s1 = Select(browser.find_element_by_id('cate1'))\n",
    "s1.select_by_visible_text(\"基本輪廓\")\n",
    "#受眾命名\n",
    "element = browser.find_element_by_name (\"target_name\").send_keys(\"文藝愛好者\")\n",
    "element = browser.find_element_by_name (\"target_description\").send_keys(\"看看展覽、欣賞歌劇\")\n",
    "element = browser.find_element_by_xpath('//input[@value=\"開放編輯\"]').send_keys(Keys.SPACE)\n",
    "\n",
    "#受眾條件1\n",
    "#包含條件\n",
    "#基本輪廓設定\n",
    "element = browser.find_element_by_xpath('/html/body/section/div/section/section/div/div[2]/div[1]/div[1]/div/div/div[2]/section[1]/div/section/header/div[2]/a/i').click()\n",
    "#性別:男性與女性\n",
    "element = browser.find_element_by_xpath('//input[@value=\"男性與女性\"]').send_keys(Keys.SPACE)\n",
    "#年齡:20至60歲\n",
    "element = browser.find_element_by_xpath('//*[@id=\"modalBasicShape\"]/section/div/div/div[1]/div[2]/div[2]/div[1]/div/div/div[1]/select/option[21]').click()\n",
    "element = browser.find_element_by_xpath('//*[@id=\"modalBasicShape\"]/section/div/div/div[1]/div[2]/div[2]/div[1]/div/div/div[3]/select/option[61]').click()\n",
    "#地址類別:台中市 全區\n",
    "s1 = Select(browser.find_element_by_name(\"county\"))\n",
    "s1.select_by_visible_text(\"台中市\")\n",
    "#新增一組基本輪廓設定\n",
    "element = browser.find_element_by_xpath('//*[@id=\"modalBasicShape\"]/section/footer/div/div/button[1]').click()\n",
    "time.sleep(15)\n",
    "#新增受眾\n",
    "element = browser.find_element_by_xpath('/html/body/section/div/section/section/div/div[2]/header/div/div[2]/div[2]/button[1]').click()"
   ]
  },
  {
   "cell_type": "code",
   "execution_count": null,
   "metadata": {},
   "outputs": [],
   "source": []
  },
  {
   "cell_type": "code",
   "execution_count": null,
   "metadata": {},
   "outputs": [],
   "source": []
  }
 ],
 "metadata": {
  "kernelspec": {
   "display_name": "Python 3",
   "language": "python",
   "name": "python3"
  },
  "language_info": {
   "codemirror_mode": {
    "name": "ipython",
    "version": 3
   },
   "file_extension": ".py",
   "mimetype": "text/x-python",
   "name": "python",
   "nbconvert_exporter": "python",
   "pygments_lexer": "ipython3",
   "version": "3.7.3"
  }
 },
 "nbformat": 4,
 "nbformat_minor": 2
}
