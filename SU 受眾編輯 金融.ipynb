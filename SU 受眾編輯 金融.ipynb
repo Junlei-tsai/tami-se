{
 "cells": [
  {
   "cell_type": "code",
   "execution_count": 26,
   "metadata": {},
   "outputs": [],
   "source": [
    "from selenium import webdriver\n",
    "from selenium.webdriver.common.keys import Keys\n",
    "import time\n",
    "from selenium.webdriver.support.ui import Select\n",
    "\n",
    "#使用chrome的webdriver\n",
    "browser = webdriver.Chrome()\n",
    "#開啟網頁\n",
    "browser.get('http://35.201.209.150:5000/')\n",
    "#視窗最大化\n",
    "browser.maximize_window()\n",
    "#輸入帳號密碼進行登入\n",
    "element = browser.find_element_by_name (\"username\").send_keys(\"itri\")\n",
    "element = browser.find_element_by_name (\"pwd\").send_keys(\"itri\")\n",
    "element = browser.find_element_by_css_selector('.btn.btn-primary.hidden-xs.btn-login').click()\n",
    "\n",
    "#切換到受眾列表\n",
    "time.sleep(3)\n",
    "element = browser.find_element_by_xpath('//*[@id=\"menu\"]/ul/li[1]/ul/li[1]/a').click()\n",
    "\n",
    "#編輯特徵 金融\n",
    "time.sleep(3)\n",
    "element = browser.find_element_by_xpath('//*[@id=\"more-55\"]').click()\n",
    "#編輯受眾\n",
    "time.sleep(3)\n",
    "element = browser.find_element_by_xpath('//*[@id=\"more-55\"]/ul/li[1]/button').click()\n",
    "\n",
    "#位移\n",
    "browser.execute_script(\"var q=document.documentElement.scrollTop=100000\")\n",
    "time.sleep(10)\n",
    "browser.execute_script(\"var q=document.documentElement.scrollTop=100000\")\n",
    "\n",
    "#移除排除條件\n",
    "time.sleep(3)\n",
    "element = browser.find_element_by_xpath('/html/body/section/div/section/section/div/div[2]/div[1]/div[1]/div/div/div[2]/section[2]/div/section/div/div/div/div/div/div/dl[1]/dd/i').click()\n",
    "\n",
    "#基本輪廓設定\n",
    "element = browser.find_element_by_xpath('/html/body/section/div/section/section/div/div[2]/div[1]/div[1]/div/div/div[2]/section[2]/div/section/header/div[2]/a/i').click()\n",
    "#性別:男性\n",
    "element = browser.find_element_by_xpath('//input[@value=\"男性\"]').send_keys(Keys.SPACE)\n",
    "#年齡:10至20歲\n",
    "element = browser.find_element_by_xpath('//*[@id=\"modalBasicShape\"]/section/div/div/div[1]/div[2]/div[2]/div[1]/div/div/div[1]/select/option[11]').click()\n",
    "element = browser.find_element_by_xpath('//*[@id=\"modalBasicShape\"]/section/div/div/div[1]/div[2]/div[2]/div[1]/div/div/div[3]/select/option[21]').click()\n",
    "#新增一組基本輪廓設定\n",
    "element = browser.find_element_by_xpath('//*[@id=\"modalBasicShape\"]/section/footer/div/div/button[1]').click()\n",
    "\n",
    "#點擊\"編輯受眾\"\n",
    "time.sleep(10)\n",
    "element = browser.find_element_by_xpath('/html/body/section/div/section/section/div/div[2]/header/div/div[2]/div[2]/button[1]').click()\n",
    "\n",
    "#彈出視窗按下確定\n",
    "browser.switch_to_alert().accept() "
   ]
  },
  {
   "cell_type": "code",
   "execution_count": null,
   "metadata": {},
   "outputs": [],
   "source": []
  }
 ],
 "metadata": {
  "kernelspec": {
   "display_name": "Python 3",
   "language": "python",
   "name": "python3"
  },
  "language_info": {
   "codemirror_mode": {
    "name": "ipython",
    "version": 3
   },
   "file_extension": ".py",
   "mimetype": "text/x-python",
   "name": "python",
   "nbconvert_exporter": "python",
   "pygments_lexer": "ipython3",
   "version": "3.7.3"
  }
 },
 "nbformat": 4,
 "nbformat_minor": 2
}
